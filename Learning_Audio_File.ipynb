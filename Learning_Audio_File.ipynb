{
  "nbformat": 4,
  "nbformat_minor": 0,
  "metadata": {
    "colab": {
      "name": "Learning_Audio_File.ipynb",
      "provenance": [],
      "include_colab_link": true
    },
    "kernelspec": {
      "name": "python3",
      "display_name": "Python 3"
    }
  },
  "cells": [
    {
      "cell_type": "markdown",
      "metadata": {
        "id": "view-in-github",
        "colab_type": "text"
      },
      "source": [
        "<a href=\"https://colab.research.google.com/github/IshantWadhwa4/AudioDataNLP/blob/master/Learning_Audio_File.ipynb\" target=\"_parent\"><img src=\"https://colab.research.google.com/assets/colab-badge.svg\" alt=\"Open In Colab\"/></a>"
      ]
    },
    {
      "cell_type": "markdown",
      "metadata": {
        "id": "XIHIsfTm7Gx_",
        "colab_type": "text"
      },
      "source": [
        "**Learning Audio Data**"
      ]
    },
    {
      "cell_type": "code",
      "metadata": {
        "id": "b-WTc6yhwc46",
        "colab_type": "code",
        "colab": {}
      },
      "source": [
        "import wave"
      ],
      "execution_count": 0,
      "outputs": []
    },
    {
      "cell_type": "code",
      "metadata": {
        "id": "a5GO2-DWwqFv",
        "colab_type": "code",
        "colab": {}
      },
      "source": [
        "#download the .wav file\n",
        "audio_file = wave.open(\"clean-support-call.wav\",'r')"
      ],
      "execution_count": 0,
      "outputs": []
    },
    {
      "cell_type": "code",
      "metadata": {
        "id": "93aAxHn2As8P",
        "colab_type": "code",
        "colab": {}
      },
      "source": [
        "audio_file_frames = audio_file.readframes(-1)"
      ],
      "execution_count": 0,
      "outputs": []
    },
    {
      "cell_type": "code",
      "metadata": {
        "id": "34D5EaQ7Azub",
        "colab_type": "code",
        "colab": {
          "base_uri": "https://localhost:8080/",
          "height": 35
        },
        "outputId": "81d97f18-8898-4e8f-d3d6-1d22133c5041"
      },
      "source": [
        "print(audio_file_frames[:10])"
      ],
      "execution_count": 4,
      "outputs": [
        {
          "output_type": "stream",
          "text": [
            "b'L\\x00\\x8f\\x00F\\x00\\x89\\x00M\\x00'\n"
          ],
          "name": "stdout"
        }
      ]
    },
    {
      "cell_type": "code",
      "metadata": {
        "id": "bF0-Aon6A3LB",
        "colab_type": "code",
        "colab": {
          "base_uri": "https://localhost:8080/",
          "height": 35
        },
        "outputId": "85dcc0cd-1c05-41b3-cd3a-612cac2b0a2d"
      },
      "source": [
        "audio_file.getframerate()"
      ],
      "execution_count": 5,
      "outputs": [
        {
          "output_type": "execute_result",
          "data": {
            "text/plain": [
              "48000"
            ]
          },
          "metadata": {
            "tags": []
          },
          "execution_count": 5
        }
      ]
    },
    {
      "cell_type": "code",
      "metadata": {
        "id": "fylSdhdHA8bZ",
        "colab_type": "code",
        "colab": {}
      },
      "source": [
        ""
      ],
      "execution_count": 0,
      "outputs": []
    }
  ]
}